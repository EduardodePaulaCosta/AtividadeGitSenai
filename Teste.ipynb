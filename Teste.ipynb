{
  "nbformat": 4,
  "nbformat_minor": 0,
  "metadata": {
    "colab": {
      "name": "Teste.ipynb",
      "provenance": [],
      "collapsed_sections": [],
      "authorship_tag": "ABX9TyPIloKsk2gZFJGNX/KWxEQ9",
      "include_colab_link": true
    },
    "kernelspec": {
      "name": "python3",
      "display_name": "Python 3"
    },
    "language_info": {
      "name": "python"
    }
  },
  "cells": [
    {
      "cell_type": "markdown",
      "metadata": {
        "id": "view-in-github",
        "colab_type": "text"
      },
      "source": [
        "<a href=\"https://colab.research.google.com/github/EduardodePaulaCosta/AtividadeGitSenai/blob/main/Teste.ipynb\" target=\"_parent\"><img src=\"https://colab.research.google.com/assets/colab-badge.svg\" alt=\"Open In Colab\"/></a>"
      ]
    },
    {
      "cell_type": "code",
      "metadata": {
        "id": "KosR6j37RvmJ"
      },
      "source": [
        "notas = []\n",
        "soma = 0.0\n",
        "for i in range (0,4):\n",
        "  print(\"Digite a nota:\")\n",
        "  notas.append(float(input()))\n",
        "for i in range (0,4):\n",
        "    soma = soma + notas [i]\n",
        "print (\"A média é:\", soma / 4)\n"
      ],
      "execution_count": null,
      "outputs": []
    }
  ]
}